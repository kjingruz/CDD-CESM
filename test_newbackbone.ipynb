{
 "cells": [
  {
   "cell_type": "code",
   "execution_count": null,
   "id": "77140dd3-b479-479e-b189-53c4a95129d4",
   "metadata": {},
   "outputs": [
    {
     "name": "stdout",
     "output_type": "stream",
     "text": [
      "/opt/anaconda3/lib/python3.11/site-packages/torch/functional.py:512: UserWarning: torch.meshgrid: in an upcoming release, it will be required to pass the indexing argument. (Triggered internally at /Users/runner/work/pytorch/pytorch/pytorch/aten/src/ATen/native/TensorShape.cpp:3588.)\n",
      "  return _VF.meshgrid(tensors, **kwargs)  # type: ignore[attr-defined]\n",
      "Predictions saved in COCO format to output_improved/predictions_coco.json\n",
      "Number of predictions: 1206\n",
      "Number of predictions: 1206\n",
      "Sample prediction:\n",
      "{\n",
      "  \"image_id\": 0,\n",
      "  \"category_id\": 1,\n",
      "  \"bbox\": [\n",
      "    348.5500793457031,\n",
      "    805.5390625,\n",
      "    199.42587280273438,\n",
      "    182.23193359375\n",
      "  ],\n",
      "  \"score\": 0.7047002911567688\n",
      "}\n",
      "Saved image 1/50\n",
      "Saved image 2/50\n",
      "Saved image 3/50\n",
      "Saved image 4/50\n",
      "Saved image 5/50\n",
      "Saved image 6/50\n",
      "Saved image 7/50\n",
      "Saved image 8/50\n",
      "Saved image 9/50\n",
      "Saved image 10/50\n",
      "Saved image 11/50\n",
      "Saved image 12/50\n",
      "Saved image 13/50\n",
      "Saved image 14/50\n",
      "Saved image 15/50\n",
      "Saved image 16/50\n",
      "Saved image 17/50\n",
      "Saved image 18/50\n",
      "Saved image 19/50\n",
      "Saved image 20/50\n",
      "Saved image 21/50\n",
      "Saved image 22/50\n",
      "Saved image 23/50\n",
      "Saved image 24/50\n",
      "Saved image 25/50\n",
      "Saved image 26/50\n",
      "Saved image 27/50\n",
      "Saved image 28/50\n",
      "Saved image 29/50\n",
      "Saved image 30/50\n",
      "Saved image 31/50\n",
      "Saved image 32/50\n",
      "Saved image 33/50\n",
      "Saved image 34/50\n",
      "Saved image 35/50\n",
      "Saved image 36/50\n",
      "Saved image 37/50\n",
      "Saved image 38/50\n",
      "Saved image 39/50\n",
      "Saved image 40/50\n",
      "Saved image 41/50\n",
      "Saved image 42/50\n",
      "Saved image 43/50\n",
      "Saved image 44/50\n",
      "Saved image 45/50\n",
      "Saved image 46/50\n",
      "Saved image 47/50\n",
      "Saved image 48/50\n",
      "Saved image 49/50\n",
      "Saved image 50/50\n",
      "Current confidence threshold: 0.5\n",
      "COCO Evaluator instantiated using config, this is deprecated behavior. Please pass in explicit arguments instead.\n",
      "\n",
      "Category ids in annotations are not in [1, #categories]! We'll apply a mapping for you.\n",
      "\n"
     ]
    }
   ],
   "source": [
    "!python test_newbackbone.py"
   ]
  },
  {
   "cell_type": "code",
   "execution_count": 5,
   "id": "c4fdc111-fe78-482f-84ce-1c109ba3bd3d",
   "metadata": {},
   "outputs": [
    {
     "name": "stdout",
     "output_type": "stream",
     "text": [
      "100%|████████████████████████████████████████| 100/100 [00:00<00:00, 174.06it/s]\n",
      "FROC analysis complete. Plot saved to output_improved/froc_analysis.png\n"
     ]
    }
   ],
   "source": [
    "!python newbackbone_froc.py"
   ]
  },
  {
   "cell_type": "code",
   "execution_count": null,
   "id": "981e1875-fe41-42c1-a0c8-1bf318003a8c",
   "metadata": {},
   "outputs": [],
   "source": []
  }
 ],
 "metadata": {
  "kernelspec": {
   "display_name": "Python 3 (ipykernel)",
   "language": "python",
   "name": "python3"
  },
  "language_info": {
   "codemirror_mode": {
    "name": "ipython",
    "version": 3
   },
   "file_extension": ".py",
   "mimetype": "text/x-python",
   "name": "python",
   "nbconvert_exporter": "python",
   "pygments_lexer": "ipython3",
   "version": "3.11.8"
  }
 },
 "nbformat": 4,
 "nbformat_minor": 5
}
