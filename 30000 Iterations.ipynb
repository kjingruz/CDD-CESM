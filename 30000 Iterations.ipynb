{
 "cells": [
  {
   "cell_type": "code",
   "execution_count": 5,
   "id": "be9d8624-fece-4323-b272-a11bd094f0d0",
   "metadata": {},
   "outputs": [
    {
     "name": "stdout",
     "output_type": "stream",
     "text": [
      "\n",
      "Category ids in annotations are not in [1, #categories]! We'll apply a mapping for you.\n",
      "\n",
      "/opt/anaconda3/lib/python3.11/site-packages/torch/functional.py:512: UserWarning: torch.meshgrid: in an upcoming release, it will be required to pass the indexing argument. (Triggered internally at /Users/runner/work/pytorch/pytorch/pytorch/aten/src/ATen/native/TensorShape.cpp:3588.)\n",
      "  return _VF.meshgrid(tensors, **kwargs)  # type: ignore[attr-defined]\n",
      "Predictions saved in COCO format to 30000/predictions_coco.json\n",
      "Number of predictions: 1008\n",
      "Sample prediction:\n",
      "{\n",
      "  \"image_id\": 0,\n",
      "  \"category_id\": 0,\n",
      "  \"bbox\": [\n",
      "    61.93988037109375,\n",
      "    612.0689086914062,\n",
      "    667.9432983398438,\n",
      "    1092.48193359375\n",
      "  ],\n",
      "  \"score\": 0.7419015169143677\n",
      "}\n",
      "Saved image 1/50\n",
      "Saved image 2/50\n",
      "Saved image 3/50\n",
      "Saved image 4/50\n",
      "Saved image 5/50\n",
      "Saved image 6/50\n",
      "Saved image 7/50\n",
      "Saved image 8/50\n",
      "Saved image 9/50\n",
      "Saved image 10/50\n",
      "Saved image 11/50\n",
      "Saved image 12/50\n",
      "Saved image 13/50\n",
      "Saved image 14/50\n",
      "Saved image 15/50\n",
      "Saved image 16/50\n",
      "Saved image 17/50\n",
      "Saved image 18/50\n",
      "Saved image 19/50\n",
      "Saved image 20/50\n",
      "Saved image 21/50\n",
      "Saved image 22/50\n",
      "Saved image 23/50\n",
      "Saved image 24/50\n",
      "Saved image 25/50\n",
      "Saved image 26/50\n",
      "Saved image 27/50\n",
      "Saved image 28/50\n",
      "Saved image 29/50\n",
      "Saved image 30/50\n",
      "Saved image 31/50\n",
      "Saved image 32/50\n",
      "Saved image 33/50\n",
      "Saved image 34/50\n",
      "Saved image 35/50\n",
      "Saved image 36/50\n",
      "Saved image 37/50\n",
      "Saved image 38/50\n",
      "Saved image 39/50\n",
      "Saved image 40/50\n",
      "Saved image 41/50\n",
      "Saved image 42/50\n",
      "Saved image 43/50\n",
      "Saved image 44/50\n",
      "Saved image 45/50\n",
      "Saved image 46/50\n",
      "Saved image 47/50\n",
      "Saved image 48/50\n",
      "Saved image 49/50\n",
      "Saved image 50/50\n",
      "Current confidence threshold: 0.5\n",
      "COCO Evaluator instantiated using config, this is deprecated behavior. Please pass in explicit arguments instead.\n",
      "\n",
      "Category ids in annotations are not in [1, #categories]! We'll apply a mapping for you.\n",
      "\n",
      "Loading and preparing results...\n",
      "DONE (t=0.00s)\n",
      "creating index...\n",
      "index created!\n",
      " Average Precision  (AP) @[ IoU=0.50:0.95 | area=   all | maxDets=100 ] = 0.254\n",
      " Average Precision  (AP) @[ IoU=0.50      | area=   all | maxDets=100 ] = 0.333\n",
      " Average Precision  (AP) @[ IoU=0.75      | area=   all | maxDets=100 ] = 0.242\n",
      " Average Precision  (AP) @[ IoU=0.50:0.95 | area= small | maxDets=100 ] = -1.000\n",
      " Average Precision  (AP) @[ IoU=0.50:0.95 | area=medium | maxDets=100 ] = 0.052\n",
      " Average Precision  (AP) @[ IoU=0.50:0.95 | area= large | maxDets=100 ] = 0.255\n",
      " Average Recall     (AR) @[ IoU=0.50:0.95 | area=   all | maxDets=  1 ] = 0.396\n",
      " Average Recall     (AR) @[ IoU=0.50:0.95 | area=   all | maxDets= 10 ] = 0.436\n",
      " Average Recall     (AR) @[ IoU=0.50:0.95 | area=   all | maxDets=100 ] = 0.437\n",
      " Average Recall     (AR) @[ IoU=0.50:0.95 | area= small | maxDets=100 ] = -1.000\n",
      " Average Recall     (AR) @[ IoU=0.50:0.95 | area=medium | maxDets=100 ] = 0.085\n",
      " Average Recall     (AR) @[ IoU=0.50:0.95 | area= large | maxDets=100 ] = 0.439\n",
      "Evaluation results:\n",
      "OrderedDict([('bbox', {'AP': 25.426289725845173, 'AP50': 33.33352195471627, 'AP75': 24.17925925243592, 'APs': nan, 'APm': 5.152453517662979, 'APl': 25.531199852842835, 'AP-Benign': 5.570714879586583, 'AP-Malignant': 11.063585816051038, 'AP-Normal': 59.6445684818979})])\n"
     ]
    }
   ],
   "source": [
    "!python test_30000.py"
   ]
  },
  {
   "cell_type": "code",
   "execution_count": 6,
   "id": "d7a6bf26-290b-4f45-8460-369955e751eb",
   "metadata": {},
   "outputs": [
    {
     "name": "stdout",
     "output_type": "stream",
     "text": [
      "100%|████████████████████████████████████████| 100/100 [00:00<00:00, 115.43it/s]\n",
      "FROC analysis complete. Plot saved to 30000/froc_analysis.png\n"
     ]
    }
   ],
   "source": [
    "!python FROC_30000.py"
   ]
  },
  {
   "cell_type": "code",
   "execution_count": null,
   "id": "99403ba8-1df3-4f66-a315-bb294502a7f8",
   "metadata": {},
   "outputs": [],
   "source": []
  }
 ],
 "metadata": {
  "kernelspec": {
   "display_name": "Python 3 (ipykernel)",
   "language": "python",
   "name": "python3"
  },
  "language_info": {
   "codemirror_mode": {
    "name": "ipython",
    "version": 3
   },
   "file_extension": ".py",
   "mimetype": "text/x-python",
   "name": "python",
   "nbconvert_exporter": "python",
   "pygments_lexer": "ipython3",
   "version": "3.11.8"
  }
 },
 "nbformat": 4,
 "nbformat_minor": 5
}
